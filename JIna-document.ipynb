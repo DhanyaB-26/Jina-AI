{
 "cells": [
  {
   "cell_type": "code",
   "execution_count": 3,
   "id": "0b4c656e-6077-4efd-9fe2-a444d1dbea91",
   "metadata": {},
   "outputs": [],
   "source": [
    "from jina import Document\n",
    "d = Document(content='hello, world!') "
   ]
  },
  {
   "cell_type": "code",
   "execution_count": 4,
   "id": "3d333c73-7798-4fff-97f2-a182d4cc223f",
   "metadata": {},
   "outputs": [
    {
     "data": {
      "text/html": [
       "<img src=\"https://mermaid.ink/svg/JSV7aW5pdDogeyd0aGVtZSc6ICdiYXNlJywgJ3RoZW1lVmFyaWFibGVzJzogeyAncHJpbWFyeUNvbG9yJzogJyNGRkM2NjYnfX19JSUKICAgICAgICAgICAgICAgICAgICAgICAgICAgICAgICAgICAgY2xhc3NEaWFncmFtCiAgICAKICAgICAgICAgICAgICAgICAgICAgICAgICAgICAgICAgICAgICAgICAgICBjbGFzcyA2Yjh+RG9jdW1lbnR+eworaWQgNTZmNmVjOWQtMworbWltZV90eXBlIHRleHQvcGxhaW4KK3RleHQgaGVsbG8sIHdvcgp9\"/>"
      ],
      "text/plain": [
       "<IPython.core.display.Image object>"
      ]
     },
     "metadata": {},
     "output_type": "display_data"
    }
   ],
   "source": [
    "d"
   ]
  },
  {
   "cell_type": "code",
   "execution_count": 23,
   "id": "50457710-6214-49b5-85ca-f9627a6af18f",
   "metadata": {},
   "outputs": [
    {
     "name": "stdout",
     "output_type": "stream",
     "text": [
      "'{\"mime_type\": \"text/plain\", \"text\": \"hello, world!\"}'\n"
     ]
    }
   ],
   "source": [
    "import pprint\n",
    "\n",
    "pprint.pprint(d.json(prettify_ndarrays=True))"
   ]
  },
  {
   "cell_type": "code",
   "execution_count": 24,
   "id": "c9e9ce8c-9646-4e9d-818c-c731ae94c339",
   "metadata": {},
   "outputs": [
    {
     "name": "stdout",
     "output_type": "stream",
     "text": [
      "{'mime_type': 'text/plain', 'text': 'hello, world!'}\n"
     ]
    }
   ],
   "source": [
    "d.pop('id')\n",
    "d.json()\n",
    "pprint.pprint(d.dict(prettify_ndarrays = True))"
   ]
  },
  {
   "cell_type": "code",
   "execution_count": 12,
   "id": "c4c43c03-9b1c-47dc-a2b6-2b2b85cacf68",
   "metadata": {},
   "outputs": [],
   "source": [
    "import numpy as np\n",
    "\n",
    "d1 = Document(content='hello')\n",
    "d2 = Document(content=b'\\f1')\n",
    "d3 = Document(content=np.array([1, 2, 3]))"
   ]
  },
  {
   "cell_type": "code",
   "execution_count": 13,
   "id": "1ec68f9b-94af-4c43-b2ef-3fa97140be3c",
   "metadata": {},
   "outputs": [
    {
     "name": "stdout",
     "output_type": "stream",
     "text": [
      "{'id': '637ef9c8-3995-11ec-ad25-c03eba366a4f', 'mime_type': 'text/plain', 'text': 'hello'}\n",
      "{'id': '637effad-3995-11ec-917c-c03eba366a4f', 'buffer': 'DDE='}\n",
      "{'id': '637f04e3-3995-11ec-9ab4-c03eba366a4f', 'blob': {'dense': {'buffer': 'AQAAAAAAAAACAAAAAAAAAAMAAAAAAAAA', 'shape': [3], 'dtype': '<i8'}}}\n"
     ]
    }
   ],
   "source": [
    "print(d1)\n",
    "print(d2)\n",
    "print(d3)"
   ]
  },
  {
   "cell_type": "code",
   "execution_count": 14,
   "id": "7d787551-b894-48ad-9696-3f274369ffaf",
   "metadata": {},
   "outputs": [],
   "source": [
    "d1 = Document(embedding=np.array([1, 2, 3]))\n",
    "d2 = Document(embedding=np.array([[1, 2, 3], [4, 5, 6]]))"
   ]
  },
  {
   "cell_type": "code",
   "execution_count": 15,
   "id": "5e2d1a2c-9a59-4b25-aa20-72464ec0c603",
   "metadata": {},
   "outputs": [
    {
     "data": {
      "text/html": [
       "<img src=\"https://mermaid.ink/svg/JSV7aW5pdDogeyd0aGVtZSc6ICdiYXNlJywgJ3RoZW1lVmFyaWFibGVzJzogeyAncHJpbWFyeUNvbG9yJzogJyNGRkM2NjYnfX19JSUKICAgICAgICAgICAgICAgICAgICAgICAgICAgICAgICAgICAgY2xhc3NEaWFncmFtCiAgICAKICAgICAgICAgICAgICAgICAgICAgICAgICAgICAgICAgICAgICAgICAgICBjbGFzcyBmMDB+RG9jdW1lbnR+eworaWQgNjUyNzM5ODgtMworZW1iZWRkaW5nKDxjbGFzcyAnbnVtcHkubmRhcnJheSc+KQp9\"/>"
      ],
      "text/plain": [
       "<IPython.core.display.Image object>"
      ]
     },
     "metadata": {},
     "output_type": "display_data"
    }
   ],
   "source": [
    "d1"
   ]
  },
  {
   "cell_type": "code",
   "execution_count": 8,
   "id": "aaf899a7-41cf-4229-bba5-376c907e748d",
   "metadata": {},
   "outputs": [
    {
     "data": {
      "text/plain": [
       "'{\\n  \"embedding\": {\\n    \"dense\": {\\n      \"buffer\": \"AQAAAAAAAAACAAAAAAAAAAMAAAAAAAAA\",\\n      \"dtype\": \"<i8\",\\n      \"shape\": [\\n        3\\n      ]\\n    }\\n  },\\n  \"id\": \"f8d20ca1-373f-11ec-97bf-c03eba366a4f\"\\n}'"
      ]
     },
     "execution_count": 8,
     "metadata": {},
     "output_type": "execute_result"
    }
   ],
   "source": [
    "d1.json()"
   ]
  },
  {
   "cell_type": "code",
   "execution_count": 9,
   "id": "17c7af13-36d0-4315-8178-9c1075133ebe",
   "metadata": {},
   "outputs": [
    {
     "name": "stdout",
     "output_type": "stream",
     "text": [
      "           JINA@18897[I]:Document visualization: https://mermaid.ink/svg/JSV7aW5pdDogeyd0aGVtZSc6ICdiYXNlJywgJ3RoZW1lVmFyaWFibGVzJzogeyAncHJpbWFyeUNvbG9yJzogJyNGRkM2NjYnfX19JSUKICAgICAgICAgICAgICAgICAgICAgICAgICAgICAgICAgICAgY2xhc3NEaWFncmFtCiAgICAKICAgICAgICAgICAgICAgICAgICAgICAgICAgICAgICAgICAgICAgICAgICBjbGFzcyA0NTR+RG9jdW1lbnR+eworaWQgZjhkMjNlMzUtMworZW1iZWRkaW5nKDxjbGFzcyAnbnVtcHkubmRhcnJheSc+KQp9\u001b[0m\n"
     ]
    }
   ],
   "source": [
    "d2.plot()"
   ]
  },
  {
   "cell_type": "code",
   "execution_count": 10,
   "id": "f199eb53-bfd4-4e38-85ad-b214c9ca0b67",
   "metadata": {},
   "outputs": [
    {
     "name": "stderr",
     "output_type": "stream",
     "text": [
      "\u001b[1;33mRuntimeWarning: Python package \"\u001b[1mtensorflow>=2.0\u001b[0m\" is not installed, \u001b[33mfallback to default behavior\u001b[0m.\n",
      "                    You are trying to use a feature not enabled by your current Jina installation.\n",
      "\n",
      "To enable this feature, use \u001b[1mpip install jina[TAG]\u001b[0m, where \u001b[1m[TAG]\u001b[0m is one of \u001b[1m[tensorflow>=2.0]\u001b[0m \u001b[1m[cicd]\u001b[0m.\n",
      "\u001b[0m \u001b[1;30m(raised from /home/dhanya/miniconda3/envs/jina/lib/python3.9/site-packages/jina/types/document/__init__.py:603)\u001b[0m\n",
      "\u001b[1;33mRuntimeWarning: Python package \"\u001b[1mtorch>=1.1.0\u001b[0m\" is not installed, \u001b[33mfallback to default behavior\u001b[0m.\n",
      "                    You are trying to use a feature not enabled by your current Jina installation.\n",
      "\n",
      "To enable this feature, use \u001b[1mpip install jina[TAG]\u001b[0m, where \u001b[1m[TAG]\u001b[0m is one of \u001b[1m[torch>=1.1.0]\u001b[0m \u001b[1m[demo]\u001b[0m.\n",
      "\u001b[0m \u001b[1;30m(raised from /home/dhanya/miniconda3/envs/jina/lib/python3.9/site-packages/jina/types/document/__init__.py:610)\u001b[0m\n"
     ]
    }
   ],
   "source": [
    "import scipy.sparse as sp\n",
    "\n",
    "d1 = Document(embedding=sp.coo_matrix([0, 0, 0, 1, 0]))\n",
    "d2 = Document(embedding=sp.csr_matrix([0, 0, 0, 1, 0]))\n",
    "d3 = Document(embedding=sp.bsr_matrix([0, 0, 0, 1, 0]))\n",
    "d4 = Document(embedding=sp.csc_matrix([0, 0, 0, 1, 0]))\n",
    "\n",
    "d5 = Document(blob=sp.coo_matrix([0, 0, 0, 1, 0]))\n",
    "d6 = Document(blob=sp.csr_matrix([0, 0, 0, 1, 0]))\n",
    "d7 = Document(blob=sp.bsr_matrix([0, 0, 0, 1, 0]))\n",
    "d8 = Document(blob=sp.csc_matrix([0, 0, 0, 1, 0]))"
   ]
  },
  {
   "cell_type": "code",
   "execution_count": 13,
   "id": "a9345ddc-d7e1-4f77-8684-b7ecd1a78da6",
   "metadata": {},
   "outputs": [],
   "source": [
    "# doc = Document(uri=\"/home/dhanya/Desktop/tact/Documents/Tact Employee NDA-Dhanya.docx\")\n",
    "\n",
    "# doc.convert_uri_to_buffer()\n",
    "# doc.convert_uri_to_text()\n",
    "\n",
    "# doc.convert_buffer_to_uri()\n",
    "# doc.convert_text_to_uri()\n",
    "\n",
    "# doc.convert_buffer_to_blob()\n",
    "# doc.convert_blob_to_buffer()"
   ]
  },
  {
   "cell_type": "code",
   "execution_count": 17,
   "id": "d6f024f8-d382-4b6d-b3e4-78c9dddccd9f",
   "metadata": {},
   "outputs": [],
   "source": [
    "doc = Document(text = 'somthing')\n",
    "doc.tags['greetings'] = 'hello'\n",
    "doc.tags['greetings'] = 'vanakkam'"
   ]
  },
  {
   "cell_type": "code",
   "execution_count": 18,
   "id": "8893c8b1-2476-4416-99a9-33d57250100e",
   "metadata": {},
   "outputs": [
    {
     "data": {
      "text/html": [
       "<img src=\"https://mermaid.ink/svg/JSV7aW5pdDogeyd0aGVtZSc6ICdiYXNlJywgJ3RoZW1lVmFyaWFibGVzJzogeyAncHJpbWFyeUNvbG9yJzogJyNGRkM2NjYnfX19JSUKICAgICAgICAgICAgICAgICAgICAgICAgICAgICAgICAgICAgY2xhc3NEaWFncmFtCiAgICAKICAgICAgICAgICAgICAgICAgICAgICAgICAgICAgICAgICAgICAgICAgICBjbGFzcyA5ZjN+RG9jdW1lbnR+eworaWQgMTYyNDEyNjctMworbWltZV90eXBlIHRleHQvcGxhaW4KK3RhZ3MoPGNsYXNzICdqaW5hLnR5cGVzLnN0cnVjdC5TdHJ1Y3RWaWV3Jz4pCit0ZXh0IHNvbXRoaW5nCn0=\"/>"
      ],
      "text/plain": [
       "<IPython.core.display.Image object>"
      ]
     },
     "metadata": {},
     "output_type": "display_data"
    }
   ],
   "source": [
    "doc"
   ]
  },
  {
   "cell_type": "code",
   "execution_count": 19,
   "id": "c32c793a-f246-4ae3-834b-f747b621bffc",
   "metadata": {},
   "outputs": [
    {
     "data": {
      "text/plain": [
       "<jina.types.struct.StructView greetings=vanakkam at 139958442884976>"
      ]
     },
     "execution_count": 19,
     "metadata": {},
     "output_type": "execute_result"
    }
   ],
   "source": [
    "doc.tags"
   ]
  },
  {
   "cell_type": "code",
   "execution_count": 23,
   "id": "ec6ed968-f760-430f-a209-c86b47b6be76",
   "metadata": {},
   "outputs": [],
   "source": [
    "import numpy as np\n",
    "from jina import Document\n",
    "\n",
    "d1 = Document(embedding=np.array([1, 2, 3]))\n",
    "d2 = Document(embedding=np.array([[1, 2, 3], [4, 5, 6]]))"
   ]
  },
  {
   "cell_type": "code",
   "execution_count": 24,
   "id": "85e03203-adc1-4423-8722-67eb1e21e423",
   "metadata": {},
   "outputs": [
    {
     "data": {
      "text/html": [
       "<img src=\"https://mermaid.ink/svg/JSV7aW5pdDogeyd0aGVtZSc6ICdiYXNlJywgJ3RoZW1lVmFyaWFibGVzJzogeyAncHJpbWFyeUNvbG9yJzogJyNGRkM2NjYnfX19JSUKICAgICAgICAgICAgICAgICAgICAgICAgICAgICAgICAgICAgY2xhc3NEaWFncmFtCiAgICAKICAgICAgICAgICAgICAgICAgICAgICAgICAgICAgICAgICAgICAgICAgICBjbGFzcyAxYzF+RG9jdW1lbnR+eworaWQgNzgxZGVkMTQtMworZW1iZWRkaW5nKDxjbGFzcyAnbnVtcHkubmRhcnJheSc+KQp9\"/>"
      ],
      "text/plain": [
       "<IPython.core.display.Image object>"
      ]
     },
     "metadata": {},
     "output_type": "display_data"
    }
   ],
   "source": [
    "d2"
   ]
  },
  {
   "cell_type": "code",
   "execution_count": 8,
   "id": "40a100de-4254-4df7-849b-232cfa484c54",
   "metadata": {},
   "outputs": [
    {
     "name": "stdout",
     "output_type": "stream",
     "text": [
      "None\n"
     ]
    }
   ],
   "source": [
    "import numpy as np\n",
    "from jina import Document\n",
    "\n",
    "d0 = Document(id='🐲', embedding=np.array([0, 0]))\n",
    "d1 = Document(id='🐦', embedding=np.array([1, 0]))\n",
    "d2 = Document(id='🐢', embedding=np.array([0, 1]))\n",
    "d3 = Document(id='🐯', embedding=np.array([1, 1]))\n",
    "\n",
    "d0.chunks.append(d1)\n",
    "d0.chunks[0].chunks.append(d2)\n",
    "d0.matches.append(d3)\n",
    "\n",
    "# d0.plot()  # simply `d0` on JupyterLab\n",
    "\n",
    "print(d0.content_type)"
   ]
  },
  {
   "cell_type": "code",
   "execution_count": 13,
   "id": "a52056b3-8a6b-41f5-864f-11c07cd2a294",
   "metadata": {},
   "outputs": [
    {
     "name": "stdout",
     "output_type": "stream",
     "text": [
      "\n"
     ]
    },
    {
     "data": {
      "text/plain": [
       "'text'"
      ]
     },
     "execution_count": 13,
     "metadata": {},
     "output_type": "execute_result"
    }
   ],
   "source": [
    "from jina import Document\n",
    "import json\n",
    "\n",
    "d = {'id': 'hello123', 'content': 'world'}\n",
    "d1 = Document(d)\n",
    "\n",
    "d = json.dumps({'id': 'hello123', 'content': 'world'})\n",
    "d2 = Document(d)\n",
    "print(d2.parent_id)\n",
    "d2.content_type"
   ]
  },
  {
   "cell_type": "code",
   "execution_count": 2,
   "id": "db8b3c80-8f8a-4151-90f9-6795920fcf39",
   "metadata": {},
   "outputs": [
    {
     "data": {
      "text/html": [
       "<img src=\"https://mermaid.ink/svg/JSV7aW5pdDogeyd0aGVtZSc6ICdiYXNlJywgJ3RoZW1lVmFyaWFibGVzJzogeyAncHJpbWFyeUNvbG9yJzogJyNGRkM2NjYnfX19JSUKICAgICAgICAgICAgICAgICAgICAgICAgICAgICAgICAgICAgY2xhc3NEaWFncmFtCiAgICAKICAgICAgICAgICAgICAgICAgICAgICAgICAgICAgICAgICAgICAgICAgICBjbGFzcyA5Njl+RG9jdW1lbnR+eworaWQgaGVsbG8xMjMKK21pbWVfdHlwZSB0ZXh0L3BsYWluCit0ZXh0IHdvcmxkCn0=\"/>"
      ],
      "text/plain": [
       "<IPython.core.display.Image object>"
      ]
     },
     "metadata": {},
     "output_type": "display_data"
    }
   ],
   "source": [
    "d1"
   ]
  },
  {
   "cell_type": "code",
   "execution_count": 4,
   "id": "2298caa0-dd1b-4c7a-b23c-3f824ce2c98d",
   "metadata": {},
   "outputs": [
    {
     "data": {
      "text/plain": [
       "'{\\n  \"id\": \"hello123\",\\n  \"mime_type\": \"text/plain\",\\n  \"text\": \"world\"\\n}'"
      ]
     },
     "execution_count": 4,
     "metadata": {},
     "output_type": "execute_result"
    }
   ],
   "source": [
    "d2.json()"
   ]
  },
  {
   "cell_type": "code",
   "execution_count": 16,
   "id": "3b11fc19-d2e7-4c15-9b7c-ff9eaa8a4b0c",
   "metadata": {},
   "outputs": [],
   "source": [
    "from jina import Document\n",
    "\n",
    "d = Document(uri='https://jina.ai',\n",
    "             mime_type='text/plain',\n",
    "             granularity=1,\n",
    "             adjacency=3,\n",
    "             tags={'foo': 'bar'})\n",
    "\n",
    "d.content_type"
   ]
  },
  {
   "cell_type": "code",
   "execution_count": 17,
   "id": "ab9bc7ff-bcb7-4770-97aa-29db86aa10d2",
   "metadata": {},
   "outputs": [
    {
     "data": {
      "text/html": [
       "<img src=\"https://mermaid.ink/svg/JSV7aW5pdDogeyd0aGVtZSc6ICdiYXNlJywgJ3RoZW1lVmFyaWFibGVzJzogeyAncHJpbWFyeUNvbG9yJzogJyNGRkM2NjYnfX19JSUKICAgICAgICAgICAgICAgICAgICAgICAgICAgICAgICAgICAgY2xhc3NEaWFncmFtCiAgICAKICAgICAgICAgICAgICAgICAgICAgICAgICAgICAgICAgICAgICAgICAgICBjbGFzcyA3MWZ+RG9jdW1lbnR+eworaWQgZDVmZWE3NDItMwordXJpIGh0dHBzOi8vamkKK21pbWVfdHlwZSB0ZXh0L3BsYWluCit0YWdzKDxjbGFzcyAnamluYS50eXBlcy5zdHJ1Y3QuU3RydWN0Vmlldyc+KQorZ3JhbnVsYXJpdHkgMQorYWRqYWNlbmN5IDMKfQ==\"/>"
      ],
      "text/plain": [
       "<IPython.core.display.Image object>"
      ]
     },
     "metadata": {},
     "output_type": "display_data"
    }
   ],
   "source": [
    "d"
   ]
  },
  {
   "cell_type": "code",
   "execution_count": 18,
   "id": "90b4d316-92ae-4003-8d97-6b6029e73f2b",
   "metadata": {},
   "outputs": [],
   "source": [
    "d.content_type"
   ]
  },
  {
   "cell_type": "code",
   "execution_count": 20,
   "id": "5c3aac96-c64e-4988-9c1c-46af4ac549c2",
   "metadata": {},
   "outputs": [
    {
     "name": "stdout",
     "output_type": "stream",
     "text": [
      "ChunkArray has 1 items:\n",
      "{'id': '🐢', 'mime_type': 'text/plain', 'granularity': 1, 'parent_id': '🐲'}\n",
      "ChunkArray has 1 items:\n",
      "{'id': '🐯', 'mime_type': 'text/plain', 'granularity': 1, 'parent_id': '🐦'}\n"
     ]
    }
   ],
   "source": [
    "from jina import Document\n",
    "\n",
    "s = Document(\n",
    "    id='🐲',\n",
    "    content='hello-world',\n",
    "    tags={'a': 'b'},\n",
    "    chunks=[Document(id='🐢')],\n",
    ")\n",
    "d = Document(\n",
    "    id='🐦',\n",
    "    content='goodbye-world',\n",
    "    tags={'c': 'd'},\n",
    "    chunks=[Document(id='🐯')],\n",
    ")\n",
    "print(s.chunks)\n",
    "print(d.chunks)\n",
    "# only update `id` field\n",
    "d.update(s, fields=['id'])\n",
    "\n",
    "# update all fields. `tags` field as `dict` will be merged.\n",
    "d.update(s)"
   ]
  },
  {
   "cell_type": "code",
   "execution_count": 21,
   "id": "d246c772-1005-4aae-b424-82f172ff79c8",
   "metadata": {},
   "outputs": [],
   "source": [
    "from jina import Document\n",
    "\n",
    "root_document = Document(text='i am root')\n",
    "# add one chunk to root\n",
    "root_document.chunks.append(Document(text='i am chunk 1'))\n",
    "root_document.chunks.extend([\n",
    "   Document(text='i am chunk 2'),\n",
    "   Document(text='i am chunk 3'),\n",
    "])  # add multiple chunks to root"
   ]
  },
  {
   "cell_type": "code",
   "execution_count": 22,
   "id": "c96c39cb-19df-4817-afb4-ad26aa2aaea5",
   "metadata": {},
   "outputs": [
    {
     "data": {
      "text/plain": [
       "<jina.types.arrays.chunk.ChunkArray length=3 at 140355992342784>"
      ]
     },
     "execution_count": 22,
     "metadata": {},
     "output_type": "execute_result"
    }
   ],
   "source": [
    "root_document.chunks"
   ]
  },
  {
   "cell_type": "code",
   "execution_count": 24,
   "id": "777e2777-03ef-45f5-82ec-898f209540e4",
   "metadata": {},
   "outputs": [
    {
     "name": "stdout",
     "output_type": "stream",
     "text": [
      "ChunkArray has 3 items:\n",
      "{'id': 'bf0797e3-3a2c-11ec-8155-c03eba366a4f', 'mime_type': 'text/plain', 'text': 'i am chunk 1', 'granularity': 1, 'parent_id': 'bf0790db-3a2c-11ec-b2fd-c03eba366a4f'},\n",
      "{'id': 'bf079ed2-3a2c-11ec-9503-c03eba366a4f', 'mime_type': 'text/plain', 'text': 'i am chunk 2', 'granularity': 1, 'parent_id': 'bf0790db-3a2c-11ec-b2fd-c03eba366a4f'},\n",
      "{'id': 'bf07a01d-3a2c-11ec-9552-c03eba366a4f', 'mime_type': 'text/plain', 'text': 'i am chunk 3', 'granularity': 1, 'parent_id': 'bf0790db-3a2c-11ec-b2fd-c03eba366a4f'}\n"
     ]
    }
   ],
   "source": [
    "print(root_document.chunks)"
   ]
  },
  {
   "cell_type": "code",
   "execution_count": 38,
   "id": "9c5e973c-5f00-4dde-b612-4ceb5ba27491",
   "metadata": {},
   "outputs": [
    {
     "data": {
      "text/plain": [
       "<jina.types.arrays.document.DocumentArray length=10 at 140355992344992>"
      ]
     },
     "execution_count": 38,
     "metadata": {},
     "output_type": "execute_result"
    }
   ],
   "source": [
    "from jina import DocumentArray, Document\n",
    "\n",
    "da2 = DocumentArray((Document() for _ in range(10)))\n",
    "da2"
   ]
  },
  {
   "cell_type": "code",
   "execution_count": 39,
   "id": "be150ada-04f5-4b97-b2aa-5cd81efb5cd0",
   "metadata": {},
   "outputs": [
    {
     "name": "stdout",
     "output_type": "stream",
     "text": [
      "{'id': 'b798dfc9-3a2e-11ec-87e0-c03eba366a4f'}\n"
     ]
    }
   ],
   "source": [
    "print(da2[5])"
   ]
  },
  {
   "cell_type": "code",
   "execution_count": 42,
   "id": "ed2352f5-8bb7-44e1-81ab-8fc3452cdee7",
   "metadata": {},
   "outputs": [
    {
     "name": "stdout",
     "output_type": "stream",
     "text": [
      "DocumentArray has 9 items (showing first three):\n",
      "{'id': 'b798d775-3a2e-11ec-9048-c03eba366a4f'},\n",
      "{'id': 'b798da8e-3a2e-11ec-bb5d-c03eba366a4f'},\n",
      "{'id': 'b798dbcb-3a2e-11ec-92ad-c03eba366a4f'}\n"
     ]
    }
   ],
   "source": [
    "print(da2[0:9])"
   ]
  },
  {
   "cell_type": "code",
   "execution_count": 29,
   "id": "2e603d75-d70d-4734-ab6b-5d4539dc194d",
   "metadata": {},
   "outputs": [],
   "source": [
    "from jina import DocumentArray, Document\n",
    "\n",
    "da = DocumentArray((Document() for _ in range(10)))\n",
    "da1 = DocumentArray(da)"
   ]
  },
  {
   "cell_type": "code",
   "execution_count": 30,
   "id": "a178d8dd-6181-405f-aa55-28b95673a1cd",
   "metadata": {},
   "outputs": [
    {
     "name": "stdout",
     "output_type": "stream",
     "text": [
      "DocumentArray has 10 items (showing first three):\n",
      "{'id': '169a57d7-3a2e-11ec-913b-c03eba366a4f'},\n",
      "{'id': '169a5ab1-3a2e-11ec-9ae5-c03eba366a4f'},\n",
      "{'id': '169a5bb0-3a2e-11ec-bfd0-c03eba366a4f'}\n",
      "DocumentArray has 10 items (showing first three):\n",
      "{'id': '169a57d7-3a2e-11ec-913b-c03eba366a4f'},\n",
      "{'id': '169a5ab1-3a2e-11ec-9ae5-c03eba366a4f'},\n",
      "{'id': '169a5bb0-3a2e-11ec-bfd0-c03eba366a4f'}\n"
     ]
    }
   ],
   "source": [
    "print(da)\n",
    "print(da1)"
   ]
  },
  {
   "cell_type": "code",
   "execution_count": 31,
   "id": "a4d68dfb-6a4c-4729-b643-189f3a1fe54e",
   "metadata": {},
   "outputs": [],
   "source": [
    "from jina import DocumentArray, Document\n",
    "\n",
    "da = DocumentArray([Document(), Document()])\n",
    "\n",
    "da.save('data.json')\n",
    "da1 = DocumentArray.load('data.json')"
   ]
  },
  {
   "cell_type": "code",
   "execution_count": 32,
   "id": "4e1e8857-c8f7-4e18-a55e-8555c9f64333",
   "metadata": {},
   "outputs": [
    {
     "name": "stdout",
     "output_type": "stream",
     "text": [
      "DocumentArray has 2 items:\n",
      "{'id': '4804db47-3a2e-11ec-bf03-c03eba366a4f'},\n",
      "{'id': '4804dcbb-3a2e-11ec-84da-c03eba366a4f'}\n"
     ]
    }
   ],
   "source": [
    "print(da1)"
   ]
  },
  {
   "cell_type": "code",
   "execution_count": 33,
   "id": "e235a75b-936d-4114-a98c-39b5f4a10ae1",
   "metadata": {},
   "outputs": [
    {
     "data": {
      "text/plain": [
       "<jina.types.arrays.document.DocumentArray length=1 at 140355992344752>"
      ]
     },
     "execution_count": 33,
     "metadata": {},
     "output_type": "execute_result"
    }
   ],
   "source": [
    "from jina import DocumentArray, Document\n",
    "\n",
    "da = DocumentArray([Document(id='hello'), Document(id='world'), Document(id='goodbye')])\n",
    "\n",
    "da[0]\n",
    "# <jina.types.document.Document id=hello at 5699749904>\n",
    "\n",
    "da['world']\n",
    "# <jina.types.document.Document id=world at 5736614992>\n",
    "\n",
    "da[1:2]\n",
    "# <jina.types.arrays.document.DocumentArray length=1 at 5705863632>"
   ]
  },
  {
   "cell_type": "code",
   "execution_count": 1,
   "id": "ba67db43-89f4-4dc2-bf6a-c9a42c047db2",
   "metadata": {},
   "outputs": [],
   "source": [
    "from jina import Document, DocumentArray\n",
    "\n",
    "da = DocumentArray()  # initialize a random document array\n",
    "for idx in range(100):\n",
    "    da.append(Document(id=idx))  # append 100 documents into `da`\n",
    "sampled_da = da.sample(k=10)  # sample 10 documents\n",
    "sampled_da_with_seed = da.sample(k=10, seed=1)  # sample 10 documents with seed."
   ]
  },
  {
   "cell_type": "code",
   "execution_count": 2,
   "id": "c0e10c3c-96f2-4780-999b-49c7fd1fd466",
   "metadata": {},
   "outputs": [
    {
     "name": "stdout",
     "output_type": "stream",
     "text": [
      "DocumentArray has 10 items (showing first three):\n",
      "{'id': '55'},\n",
      "{'id': '63'},\n",
      "{'id': '67'}\n"
     ]
    }
   ],
   "source": [
    "print(sampled_da)"
   ]
  },
  {
   "cell_type": "code",
   "execution_count": 3,
   "id": "0e9d6472-ac66-4685-b911-4dfb65da7fcc",
   "metadata": {},
   "outputs": [
    {
     "name": "stdout",
     "output_type": "stream",
     "text": [
      "DocumentArray has 10 items (showing first three):\n",
      "{'id': '17'},\n",
      "{'id': '72'},\n",
      "{'id': '97'}\n"
     ]
    }
   ],
   "source": [
    "print(sampled_da_with_seed)"
   ]
  },
  {
   "cell_type": "code",
   "execution_count": 13,
   "id": "6e1099e9-9fd5-4c3f-a614-f18aceaca4b1",
   "metadata": {},
   "outputs": [],
   "source": [
    "from jina import Document, DocumentArray\n",
    "\n",
    "da = DocumentArray()  # initialize a random document array\n",
    "for idx in range(100):\n",
    "    da.append(Document(id=idx))  # append 100 documents into `da`\n",
    "shuffled_da = da.shuffle()  # shuffle the DocumentArray\n",
    "shuffled_da_with_seed = da.shuffle(seed=8)  # shuffle the DocumentArray with seed."
   ]
  },
  {
   "cell_type": "code",
   "execution_count": 14,
   "id": "1c6e3c44-79dd-422d-b48c-3e2cf013e872",
   "metadata": {},
   "outputs": [
    {
     "name": "stdout",
     "output_type": "stream",
     "text": [
      "DocumentArray has 100 items (showing first three):\n",
      "{'id': '0'},\n",
      "{'id': '1'},\n",
      "{'id': '2'}\n"
     ]
    }
   ],
   "source": [
    "print(da)"
   ]
  },
  {
   "cell_type": "code",
   "execution_count": 15,
   "id": "11ad50ab-3ef1-46d9-a94a-04d518f36e0b",
   "metadata": {},
   "outputs": [
    {
     "name": "stdout",
     "output_type": "stream",
     "text": [
      "DocumentArray has 100 items (showing first three):\n",
      "{'id': '14'},\n",
      "{'id': '79'},\n",
      "{'id': '23'}\n"
     ]
    }
   ],
   "source": [
    "print(shuffled_da)"
   ]
  },
  {
   "cell_type": "code",
   "execution_count": 16,
   "id": "c0e830bd-7f8c-4cfa-a568-42d7abaf2e00",
   "metadata": {},
   "outputs": [
    {
     "name": "stdout",
     "output_type": "stream",
     "text": [
      "DocumentArray has 100 items (showing first three):\n",
      "{'id': '29'},\n",
      "{'id': '47'},\n",
      "{'id': '48'}\n"
     ]
    }
   ],
   "source": [
    "print(shuffled_da_with_seed)"
   ]
  },
  {
   "cell_type": "code",
   "execution_count": 17,
   "id": "825527b0-fb82-4009-b04d-79f814a2e6bc",
   "metadata": {},
   "outputs": [],
   "source": [
    "from jina import Document, DocumentArray\n",
    "\n",
    "da = DocumentArray()\n",
    "da.append(Document(tags={'category': 'c'}))\n",
    "da.append(Document(tags={'category': 'c'}))\n",
    "da.append(Document(tags={'category': 'b'}))\n",
    "da.append(Document(tags={'category': 'a'}))\n",
    "da.append(Document(tags={'category': 'a'}))\n",
    "\n",
    "rv = da.split(tag='category')\n",
    "assert len(rv['c']) == 2  # category `c` is a DocumentArray has 2 Documents"
   ]
  },
  {
   "cell_type": "code",
   "execution_count": 18,
   "id": "8d963203-eb7b-495d-99bd-36de26c7ba56",
   "metadata": {},
   "outputs": [
    {
     "data": {
      "text/plain": [
       "{'c': <jina.types.arrays.document.DocumentArray length=2 at 139778262975104>,\n",
       " 'b': <jina.types.arrays.document.DocumentArray length=1 at 139778262975248>,\n",
       " 'a': <jina.types.arrays.document.DocumentArray length=2 at 139778263775792>}"
      ]
     },
     "execution_count": 18,
     "metadata": {},
     "output_type": "execute_result"
    }
   ],
   "source": [
    "rv"
   ]
  },
  {
   "cell_type": "code",
   "execution_count": 19,
   "id": "f1acbc26-c99a-4c4e-a266-ec13db2e9ce6",
   "metadata": {},
   "outputs": [
    {
     "data": {
      "text/plain": [
       "<jina.types.arrays.document.DocumentArray length=2 at 139778262975104>"
      ]
     },
     "execution_count": 19,
     "metadata": {},
     "output_type": "execute_result"
    }
   ],
   "source": [
    "rv['c']"
   ]
  },
  {
   "cell_type": "code",
   "execution_count": 20,
   "id": "5f6f31d2-8a37-4852-ae1e-7d90a27aa4a3",
   "metadata": {},
   "outputs": [
    {
     "name": "stdout",
     "output_type": "stream",
     "text": [
      "DocumentArray has 2 items:\n",
      "{'id': '909e8f70-3a54-11ec-8227-c03eba366a4f', 'tags': {'category': 'c'}},\n",
      "{'id': '90a31330-3a54-11ec-9b19-c03eba366a4f', 'tags': {'category': 'c'}}\n"
     ]
    }
   ],
   "source": [
    "print(rv['c'])"
   ]
  },
  {
   "cell_type": "code",
   "execution_count": 29,
   "id": "2de966f7-da1f-4596-be96-fc1921ada321",
   "metadata": {},
   "outputs": [
    {
     "name": "stdout",
     "output_type": "stream",
     "text": [
      "1\n",
      "0\n"
     ]
    }
   ],
   "source": [
    "from jina import DocumentArray, Document\n",
    "from itertools import groupby\n",
    "\n",
    "da = DocumentArray([Document(parent_id=f'{i % 2}') for i in range(6)])\n",
    "groups = groupby(sorted(da, key=lambda d: d.parent_id), lambda d: d.parent_id)\n",
    "for key, group in groups:\n",
    "    key, len(list(group))\n",
    "print(key)\n",
    "print(len(list(group)))"
   ]
  },
  {
   "cell_type": "code",
   "execution_count": 22,
   "id": "f0a6247e-338e-4b29-9f9b-3c23174c58ad",
   "metadata": {},
   "outputs": [
    {
     "name": "stdout",
     "output_type": "stream",
     "text": [
      "DocumentArray has 6 items (showing first three):\n",
      "{'id': '3cf6b090-3a5d-11ec-b565-c03eba366a4f', 'parent_id': '0'},\n",
      "{'id': '3cf6b356-3a5d-11ec-ad25-c03eba366a4f', 'parent_id': '1'},\n",
      "{'id': '3cf6b4b2-3a5d-11ec-b90d-c03eba366a4f', 'parent_id': '0'}\n"
     ]
    }
   ],
   "source": [
    "print(da)"
   ]
  },
  {
   "cell_type": "code",
   "execution_count": 26,
   "id": "87215da5-e96e-4eee-a6ca-1022e076d278",
   "metadata": {},
   "outputs": [
    {
     "name": "stdout",
     "output_type": "stream",
     "text": [
      "None\n"
     ]
    }
   ],
   "source": [
    "print(da.sort(key=lambda d: d.parent_id))"
   ]
  },
  {
   "cell_type": "code",
   "execution_count": 27,
   "id": "84990c73-19c9-4a02-a4c3-68177e86c8df",
   "metadata": {},
   "outputs": [
    {
     "name": "stdout",
     "output_type": "stream",
     "text": [
      "0\n",
      "0\n",
      "0\n",
      "1\n",
      "1\n",
      "1\n"
     ]
    }
   ],
   "source": [
    "for d in da:\n",
    "    print(d.parent_id)"
   ]
  },
  {
   "cell_type": "code",
   "execution_count": 34,
   "id": "e318e739-e11e-4198-ad75-e279682ff1eb",
   "metadata": {},
   "outputs": [
    {
     "name": "stdout",
     "output_type": "stream",
     "text": [
      "           JINA@5142[I]:Document visualization: https://mermaid.ink/svg/JSV7aW5pdDogeyd0aGVtZSc6ICdiYXNlJywgJ3RoZW1lVmFyaWFibGVzJzogeyAncHJpbWFyeUNvbG9yJzogJyNGRkM2NjYnfX19JSUKICAgICAgICAgICAgICAgICAgICAgICAgICAgICAgICAgICAgY2xhc3NEaWFncmFtCiAgICAKICAgICAgICAgICAgICAgICAgICAgICAgICAgICAgICAgICAgICAgICAgICA0YTB+RG9jdW1lbnR+IC0tPiAiMS8zIiBmZmF+RG9jdW1lbnR+OiBjaHVua3MKZmZhfkRvY3VtZW50fiAuLj4gIjEvMSIgYmM5fkRvY3VtZW50fjogbWF0Y2hlcwpjbGFzcyBiYzl+RG9jdW1lbnR+eworaWQgcjFjMW0xCitncmFudWxhcml0eSAxCithZGphY2VuY3kgMQp9CmNsYXNzIGZmYX5Eb2N1bWVudH57CitpZCByMWMxCitncmFudWxhcml0eSAxCitwYXJlbnRfaWQgcjEKfQo0YTB+RG9jdW1lbnR+IC0tPiAiMi8zIiBlZjl+RG9jdW1lbnR+OiBjaHVua3MKZWY5fkRvY3VtZW50fiAtLT4gIjEvMiIgNzBmfkRvY3VtZW50fjogY2h1bmtzCjcwZn5Eb2N1bWVudH4gLi4+ICIxLzIiIDEwMH5Eb2N1bWVudH46IG1hdGNoZXMKY2xhc3MgMTAwfkRvY3VtZW50fnsKK2lkIHIxYzJjMW0xCitncmFudWxhcml0eSAyCithZGphY2VuY3kgMQp9CjcwZn5Eb2N1bWVudH4gLi4+ICIyLzIiIDBkN35Eb2N1bWVudH46IG1hdGNoZXMKY2xhc3MgMGQ3fkRvY3VtZW50fnsKK2lkIHIxYzJjMW0yCitncmFudWxhcml0eSAyCithZGphY2VuY3kgMQp9CmNsYXNzIDcwZn5Eb2N1bWVudH57CitpZCByMWMyYzEKK2dyYW51bGFyaXR5IDIKK3BhcmVudF9pZCByMWMyCn0KZWY5fkRvY3VtZW50fiAtLT4gIjIvMiIgNTNhfkRvY3VtZW50fjogY2h1bmtzCmNsYXNzIDUzYX5Eb2N1bWVudH57CitpZCByMWMyYzIKK2dyYW51bGFyaXR5IDIKK3BhcmVudF9pZCByMWMyCn0KY2xhc3MgZWY5fkRvY3VtZW50fnsKK2lkIHIxYzIKK2dyYW51bGFyaXR5IDEKK3BhcmVudF9pZCByMQp9CjRhMH5Eb2N1bWVudH4gLS0+ICIzLzMiIDcyNH5Eb2N1bWVudH46IGNodW5rcwpjbGFzcyA3MjR+RG9jdW1lbnR+eworaWQgcjFjMworZ3JhbnVsYXJpdHkgMQorcGFyZW50X2lkIHIxCn0KY2xhc3MgNGEwfkRvY3VtZW50fnsKK2lkIHIxCn0=\u001b[0m\n",
      "           JINA@5142[I]:Document visualization: https://mermaid.ink/svg/JSV7aW5pdDogeyd0aGVtZSc6ICdiYXNlJywgJ3RoZW1lVmFyaWFibGVzJzogeyAncHJpbWFyeUNvbG9yJzogJyNGRkM2NjYnfX19JSUKICAgICAgICAgICAgICAgICAgICAgICAgICAgICAgICAgICAgY2xhc3NEaWFncmFtCiAgICAKICAgICAgICAgICAgICAgICAgICAgICAgICAgICAgICAgICAgICAgICAgICBjbGFzcyA4YTJ+RG9jdW1lbnR+eworaWQgcjIKfQ==\u001b[0m\n"
     ]
    }
   ],
   "source": [
    "from jina import DocumentArray, Document\n",
    "\n",
    "da = DocumentArray()\n",
    "\n",
    "root1 = Document(id='r1')\n",
    "\n",
    "chunk1 = Document(id='r1c1')\n",
    "root1.chunks.append(chunk1)\n",
    "root1.chunks[0].matches.append(Document(id='r1c1m1'))\n",
    "# root1.chunks[0].matches.append(Document(id='r2c2m2'))\n",
    "\n",
    "chunk2 = Document(id='r1c2')\n",
    "root1.chunks.append(chunk2)\n",
    "chunk2_chunk1 = Document(id='r1c2c1')\n",
    "chunk2_chunk2 = Document(id='r1c2c2')\n",
    "root1.chunks[1].chunks.extend([chunk2_chunk1, chunk2_chunk2])\n",
    "root1.chunks[1].chunks[0].matches.extend([Document(id='r1c2c1m1'), Document(id='r1c2c1m2')])\n",
    "\n",
    "chunk3 = Document(id='r1c3')\n",
    "root1.chunks.append(chunk3)\n",
    "\n",
    "root2 = Document(id='r2')\n",
    "\n",
    "da.extend([root1, root2])\n",
    "root1.plot()\n",
    "root2.plot()"
   ]
  },
  {
   "cell_type": "code",
   "execution_count": 35,
   "id": "7fc8c3c0-0467-4345-80ec-4fc7df391d3d",
   "metadata": {},
   "outputs": [],
   "source": [
    "from jina import DocumentArrayMemmap\n",
    "\n",
    "dam = DocumentArrayMemmap('./my-memmap', buffer_pool_size=10)"
   ]
  },
  {
   "cell_type": "code",
   "execution_count": 37,
   "id": "e52d4548-5479-43c9-951e-a57ba93248d7",
   "metadata": {},
   "outputs": [
    {
     "data": {
      "text/plain": [
       "<jina.types.arrays.memmap.DocumentArrayMemmap at 0x7f20a9b87b20>"
      ]
     },
     "execution_count": 37,
     "metadata": {},
     "output_type": "execute_result"
    }
   ],
   "source": [
    "dam"
   ]
  },
  {
   "cell_type": "code",
   "execution_count": 38,
   "id": "8975f035-eaa6-44e4-8475-700e9f089356",
   "metadata": {},
   "outputs": [
    {
     "name": "stdout",
     "output_type": "stream",
     "text": [
      "goodbye\n"
     ]
    }
   ],
   "source": [
    "from jina import DocumentArrayMemmap, Document\n",
    "\n",
    "d1 = Document(text='hello')\n",
    "d2 = Document(text='world')\n",
    "\n",
    "dam = DocumentArrayMemmap('./my-memmap')\n",
    "dam.extend([d1, d2])\n",
    "\n",
    "dam[0].text = 'goodbye'\n",
    "\n",
    "print(dam[0].text)"
   ]
  },
  {
   "cell_type": "code",
   "execution_count": 39,
   "id": "d6e3b3ea-a3f6-4434-b850-36f496bc9b1c",
   "metadata": {},
   "outputs": [
    {
     "name": "stdout",
     "output_type": "stream",
     "text": [
      "hello\n"
     ]
    }
   ],
   "source": [
    "print(d1.text)"
   ]
  },
  {
   "cell_type": "code",
   "execution_count": 40,
   "id": "2df85723-3ee2-4328-80bc-6374f6afbe05",
   "metadata": {},
   "outputs": [
    {
     "name": "stdout",
     "output_type": "stream",
     "text": [
      "world\n"
     ]
    }
   ],
   "source": [
    "print(dam[1].text)"
   ]
  },
  {
   "cell_type": "code",
   "execution_count": 43,
   "id": "67e964c5-1f90-4f57-962c-e23a2c613400",
   "metadata": {},
   "outputs": [
    {
     "name": "stdout",
     "output_type": "stream",
     "text": [
      "goodbye world!\n"
     ]
    }
   ],
   "source": [
    "print(dam[0].text+' '+dam[1].content+ '!')"
   ]
  },
  {
   "cell_type": "code",
   "execution_count": 44,
   "id": "1cb3827b-2c00-4b76-95d3-c86289b63dbf",
   "metadata": {},
   "outputs": [
    {
     "data": {
      "text/plain": [
       "'hello'"
      ]
     },
     "execution_count": 44,
     "metadata": {},
     "output_type": "execute_result"
    }
   ],
   "source": [
    "from jina import Document, DocumentArrayMemmap \n",
    "\n",
    "docs = [Document(text='hello') for _ in range(100)]\n",
    "dam = DocumentArrayMemmap('./my-memmap', buffer_pool_size=10)\n",
    "dam.extend(docs)\n",
    "for doc in docs:\n",
    "    doc.text = 'goodbye'\n",
    "\n",
    "dam[50].text"
   ]
  },
  {
   "cell_type": "code",
   "execution_count": 53,
   "id": "7d9b9fc9-fc3b-4c5e-801f-d3ac18c88686",
   "metadata": {},
   "outputs": [],
   "source": [
    "from jina import Document, DocumentArray, DocumentArrayMemmap\n",
    "\n",
    "da = DocumentArray([Document(text='hello'), Document(text='world')])\n",
    "\n",
    "# convert DocumentArray to DocumentArrayMemmap\n",
    "d1 = DocumentArrayMemmap('./memmap')\n",
    "dam.extend(da)\n",
    "\n",
    "# convert DocumentArrayMemmap to DocumentArray\n",
    "da = DocumentArray(dam)"
   ]
  },
  {
   "cell_type": "code",
   "execution_count": 52,
   "id": "d484dcd9-ac2c-43a2-8306-8cb94ee6ddad",
   "metadata": {},
   "outputs": [
    {
     "name": "stdout",
     "output_type": "stream",
     "text": [
      "<jina.types.arrays.memmap.DocumentArrayMemmap object at 0x7f20c037f6d0>\n"
     ]
    }
   ],
   "source": [
    "print(dam)"
   ]
  },
  {
   "cell_type": "code",
   "execution_count": 50,
   "id": "e45a20da-0c8f-46f5-b812-53fe79d0667f",
   "metadata": {},
   "outputs": [
    {
     "name": "stdout",
     "output_type": "stream",
     "text": [
      "DocumentArray has 2 items:\n",
      "{'id': 'bbb9f86f-3ad7-11ec-bfb2-c03eba366a4f', 'mime_type': 'text/plain', 'text': 'hello'},\n",
      "{'id': 'bbb9faf4-3ad7-11ec-b8db-c03eba366a4f', 'mime_type': 'text/plain', 'text': 'world'}\n"
     ]
    }
   ],
   "source": [
    "print(da)"
   ]
  },
  {
   "cell_type": "code",
   "execution_count": 60,
   "id": "9b606537-06b6-4f8d-831d-25cd56f5378f",
   "metadata": {},
   "outputs": [],
   "source": [
    "from jina import Document, DocumentArrayMemmap\n",
    "\n",
    "d1 = Document(text='hello')\n",
    "d2 = Document(text='world')\n",
    "\n",
    "dam = DocumentArrayMemmap('./my-memmap')\n",
    "dam2 = DocumentArrayMemmap('./my-memmap')\n",
    "\n",
    "dam.extend([d1, d2])\n",
    "assert len(dam) == 2\n",
    "assert len(dam2) == 0\n"
   ]
  },
  {
   "cell_type": "code",
   "execution_count": 59,
   "id": "a0fabaf3-acee-45a7-81f9-08df67d14b65",
   "metadata": {},
   "outputs": [],
   "source": [
    "dam2.reload()\n",
    "assert len(dam2) == 2\n",
    "\n",
    "dam.clear()\n",
    "assert len(dam) == 0\n",
    "assert len(dam2) == 2\n",
    "\n",
    "dam2.reload()\n",
    "assert len(dam2) == 0"
   ]
  },
  {
   "cell_type": "code",
   "execution_count": 61,
   "id": "2b7561ad-646f-4722-8162-943d4483cdf3",
   "metadata": {},
   "outputs": [],
   "source": [
    "from jina import Flow\n",
    "\n",
    "f = Flow().add().plot('f.svg')"
   ]
  },
  {
   "cell_type": "code",
   "execution_count": 62,
   "id": "1c5a96d9-55ad-4949-bb32-9a8f307421e5",
   "metadata": {},
   "outputs": [
    {
     "name": "stdout",
     "output_type": "stream",
     "text": [
      "           Flow@5142[I]:flow visualization: https://mermaid.ink/svg/ICAgICAgICAgICAgJSV7aW5pdDp7ICAidGhlbWUiOiAiYmFzZSIsICAidGhlbWVWYXJpYWJsZXMiOiB7ICAgICAgInByaW1hcnlDb2xvciI6ICIjZmZmIiwgICAgICAicHJpbWFyeUJvcmRlckNvbG9yIjogIiNmZmYiLCAgICAgICJtYWluQmtnIjogIiMzMkM4Q0QiLCAgICAgICJjbHVzdGVyQmtnIjogIiNFRUVERTc4QyIsICAgICAgInNlY29uZGFyeUJvcmRlckNvbG9yIjogIm5vbmUiLCAgICAgICJ0ZXJ0aWFyeUJvcmRlckNvbG9yIjogIm5vbmUiLCAgICAgICJsaW5lQ29sb3IiOiAiI2E2ZDhkYSIgICAgICB9fX0lJSAgICAgICAgICAgIApmbG93Y2hhcnQgTFI7CnN1YmdyYXBoIGV4ZWN1dG9yMDsKZXhlY3V0b3IwL3BlYS0wW0Jhc2VFeGVjdXRvcl06OjpQRUE7CmVuZDsKZ2F0ZXdheXN0YXJ0W2dhdGV3YXldOjo6R0FURVdBWSAtLT4gZXhlY3V0b3IwOjo6UE9EOwpleGVjdXRvcjA6OjpQT0QgLS0+IGdhdGV3YXllbmRbZ2F0ZXdheV06OjpHQVRFV0FZOwpjbGFzc0RlZiBJTlNQRUNUIHN0cm9rZTojRjI5QzlGCmNsYXNzRGVmIEpPSU5fSU5TUEVDVCBzdHJva2U6I0YyOUM5RgpjbGFzc0RlZiBHQVRFV0FZIGZpbGw6bm9uZSxjb2xvcjojMDAwLHN0cm9rZTpub25lCmNsYXNzRGVmIElOU1BFQ1RfQVVYX1BBU1Mgc3Ryb2tlLWRhc2hhcnJheTogMiAyCmNsYXNzRGVmIEhFQURUQUlMIGZpbGw6IzMyQzhDRDFECgpjbGFzc0RlZiBFWFRFUk5BTCBmaWxsOiNmZmYsc3Ryb2tlOiMzMkM4Q0Q=\u001b[0m\n"
     ]
    }
   ],
   "source": [
    "from jina import Flow\n",
    "\n",
    "f = Flow().add().plot()"
   ]
  },
  {
   "cell_type": "code",
   "execution_count": 2,
   "id": "357bd2b7-ac4c-4a75-8e72-dd774ec77b3a",
   "metadata": {},
   "outputs": [
    {
     "name": "stdout",
     "output_type": "stream",
     "text": [
      "hello\n"
     ]
    }
   ],
   "source": [
    "print(\"hello\")"
   ]
  },
  {
   "cell_type": "code",
   "execution_count": null,
   "id": "b7aa5ae7-2997-4d94-bc17-8afadf6e607a",
   "metadata": {},
   "outputs": [],
   "source": []
  },
  {
   "cell_type": "code",
   "execution_count": null,
   "id": "af318452-a3a6-480f-ac1d-0b68662ee084",
   "metadata": {},
   "outputs": [],
   "source": []
  },
  {
   "cell_type": "code",
   "execution_count": null,
   "id": "d745bc54-5241-4866-a68a-31001463d2c4",
   "metadata": {},
   "outputs": [],
   "source": []
  }
 ],
 "metadata": {
  "kernelspec": {
   "display_name": "Python 3 (ipykernel)",
   "language": "python",
   "name": "python3"
  },
  "language_info": {
   "codemirror_mode": {
    "name": "ipython",
    "version": 3
   },
   "file_extension": ".py",
   "mimetype": "text/x-python",
   "name": "python",
   "nbconvert_exporter": "python",
   "pygments_lexer": "ipython3",
   "version": "3.9.7"
  }
 },
 "nbformat": 4,
 "nbformat_minor": 5
}
