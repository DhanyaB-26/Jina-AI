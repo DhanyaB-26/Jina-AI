{
 "cells": [
  {
   "cell_type": "code",
   "execution_count": 2,
   "id": "0b4c656e-6077-4efd-9fe2-a444d1dbea91",
   "metadata": {},
   "outputs": [],
   "source": [
    "from jina import Document\n",
    "d = Document(content='hello, world!') "
   ]
  },
  {
   "cell_type": "code",
   "execution_count": 3,
   "id": "3d333c73-7798-4fff-97f2-a182d4cc223f",
   "metadata": {},
   "outputs": [
    {
     "data": {
      "text/html": [
       "<img src=\"https://mermaid.ink/svg/JSV7aW5pdDogeyd0aGVtZSc6ICdiYXNlJywgJ3RoZW1lVmFyaWFibGVzJzogeyAncHJpbWFyeUNvbG9yJzogJyNGRkM2NjYnfX19JSUKICAgICAgICAgICAgICAgICAgICAgICAgICAgICAgICAgICAgY2xhc3NEaWFncmFtCiAgICAKICAgICAgICAgICAgICAgICAgICAgICAgICAgICAgICAgICAgICAgICAgICBjbGFzcyA2NGJ+RG9jdW1lbnR+eworaWQgZjcwZGQ1MmUtMworbWltZV90eXBlIHRleHQvcGxhaW4KK3RleHQgaGVsbG8sIHdvcgp9\"/>"
      ],
      "text/plain": [
       "<IPython.core.display.Image object>"
      ]
     },
     "metadata": {},
     "output_type": "display_data"
    }
   ],
   "source": [
    "d"
   ]
  },
  {
   "cell_type": "code",
   "execution_count": 4,
   "id": "50457710-6214-49b5-85ca-f9627a6af18f",
   "metadata": {},
   "outputs": [
    {
     "data": {
      "text/plain": [
       "'{\\n  \"id\": \"f70dd52e-373f-11ec-9d2e-c03eba366a4f\",\\n  \"mime_type\": \"text/plain\",\\n  \"text\": \"hello, world!\"\\n}'"
      ]
     },
     "execution_count": 4,
     "metadata": {},
     "output_type": "execute_result"
    }
   ],
   "source": [
    "d.json()"
   ]
  },
  {
   "cell_type": "code",
   "execution_count": 5,
   "id": "c4c43c03-9b1c-47dc-a2b6-2b2b85cacf68",
   "metadata": {},
   "outputs": [],
   "source": [
    "import numpy as np\n",
    "\n",
    "d1 = Document(content='hello')\n",
    "d2 = Document(content=b'\\f1')\n",
    "d3 = Document(content=np.array([1, 2, 3]))"
   ]
  },
  {
   "cell_type": "code",
   "execution_count": 6,
   "id": "1ec68f9b-94af-4c43-b2ef-3fa97140be3c",
   "metadata": {},
   "outputs": [
    {
     "name": "stdout",
     "output_type": "stream",
     "text": [
      "{'id': 'f836cc62-373f-11ec-8c64-c03eba366a4f', 'mime_type': 'text/plain', 'text': 'hello'}\n",
      "{'id': 'f836da0d-373f-11ec-b034-c03eba366a4f', 'buffer': 'DDE='}\n",
      "{'id': 'f836e864-373f-11ec-ad20-c03eba366a4f', 'blob': {'dense': {'buffer': 'AQAAAAAAAAACAAAAAAAAAAMAAAAAAAAA', 'shape': [3], 'dtype': '<i8'}}}\n"
     ]
    }
   ],
   "source": [
    "print(d1)\n",
    "print(d2)\n",
    "print(d3)"
   ]
  },
  {
   "cell_type": "code",
   "execution_count": 7,
   "id": "7d787551-b894-48ad-9696-3f274369ffaf",
   "metadata": {},
   "outputs": [],
   "source": [
    "d1 = Document(embedding=np.array([1, 2, 3]))\n",
    "d2 = Document(embedding=np.array([[1, 2, 3], [4, 5, 6]]))"
   ]
  },
  {
   "cell_type": "code",
   "execution_count": 8,
   "id": "aaf899a7-41cf-4229-bba5-376c907e748d",
   "metadata": {},
   "outputs": [
    {
     "data": {
      "text/plain": [
       "'{\\n  \"embedding\": {\\n    \"dense\": {\\n      \"buffer\": \"AQAAAAAAAAACAAAAAAAAAAMAAAAAAAAA\",\\n      \"dtype\": \"<i8\",\\n      \"shape\": [\\n        3\\n      ]\\n    }\\n  },\\n  \"id\": \"f8d20ca1-373f-11ec-97bf-c03eba366a4f\"\\n}'"
      ]
     },
     "execution_count": 8,
     "metadata": {},
     "output_type": "execute_result"
    }
   ],
   "source": [
    "d1.json()"
   ]
  },
  {
   "cell_type": "code",
   "execution_count": 9,
   "id": "17c7af13-36d0-4315-8178-9c1075133ebe",
   "metadata": {},
   "outputs": [
    {
     "name": "stdout",
     "output_type": "stream",
     "text": [
      "           JINA@18897[I]:Document visualization: https://mermaid.ink/svg/JSV7aW5pdDogeyd0aGVtZSc6ICdiYXNlJywgJ3RoZW1lVmFyaWFibGVzJzogeyAncHJpbWFyeUNvbG9yJzogJyNGRkM2NjYnfX19JSUKICAgICAgICAgICAgICAgICAgICAgICAgICAgICAgICAgICAgY2xhc3NEaWFncmFtCiAgICAKICAgICAgICAgICAgICAgICAgICAgICAgICAgICAgICAgICAgICAgICAgICBjbGFzcyA0NTR+RG9jdW1lbnR+eworaWQgZjhkMjNlMzUtMworZW1iZWRkaW5nKDxjbGFzcyAnbnVtcHkubmRhcnJheSc+KQp9\u001b[0m\n"
     ]
    }
   ],
   "source": [
    "d2.plot()"
   ]
  },
  {
   "cell_type": "code",
   "execution_count": 10,
   "id": "f199eb53-bfd4-4e38-85ad-b214c9ca0b67",
   "metadata": {},
   "outputs": [
    {
     "name": "stderr",
     "output_type": "stream",
     "text": [
      "\u001b[1;33mRuntimeWarning: Python package \"\u001b[1mtensorflow>=2.0\u001b[0m\" is not installed, \u001b[33mfallback to default behavior\u001b[0m.\n",
      "                    You are trying to use a feature not enabled by your current Jina installation.\n",
      "\n",
      "To enable this feature, use \u001b[1mpip install jina[TAG]\u001b[0m, where \u001b[1m[TAG]\u001b[0m is one of \u001b[1m[tensorflow>=2.0]\u001b[0m \u001b[1m[cicd]\u001b[0m.\n",
      "\u001b[0m \u001b[1;30m(raised from /home/dhanya/miniconda3/envs/jina/lib/python3.9/site-packages/jina/types/document/__init__.py:603)\u001b[0m\n",
      "\u001b[1;33mRuntimeWarning: Python package \"\u001b[1mtorch>=1.1.0\u001b[0m\" is not installed, \u001b[33mfallback to default behavior\u001b[0m.\n",
      "                    You are trying to use a feature not enabled by your current Jina installation.\n",
      "\n",
      "To enable this feature, use \u001b[1mpip install jina[TAG]\u001b[0m, where \u001b[1m[TAG]\u001b[0m is one of \u001b[1m[torch>=1.1.0]\u001b[0m \u001b[1m[demo]\u001b[0m.\n",
      "\u001b[0m \u001b[1;30m(raised from /home/dhanya/miniconda3/envs/jina/lib/python3.9/site-packages/jina/types/document/__init__.py:610)\u001b[0m\n"
     ]
    }
   ],
   "source": [
    "import scipy.sparse as sp\n",
    "\n",
    "d1 = Document(embedding=sp.coo_matrix([0, 0, 0, 1, 0]))\n",
    "d2 = Document(embedding=sp.csr_matrix([0, 0, 0, 1, 0]))\n",
    "d3 = Document(embedding=sp.bsr_matrix([0, 0, 0, 1, 0]))\n",
    "d4 = Document(embedding=sp.csc_matrix([0, 0, 0, 1, 0]))\n",
    "\n",
    "d5 = Document(blob=sp.coo_matrix([0, 0, 0, 1, 0]))\n",
    "d6 = Document(blob=sp.csr_matrix([0, 0, 0, 1, 0]))\n",
    "d7 = Document(blob=sp.bsr_matrix([0, 0, 0, 1, 0]))\n",
    "d8 = Document(blob=sp.csc_matrix([0, 0, 0, 1, 0]))"
   ]
  },
  {
   "cell_type": "code",
   "execution_count": 13,
   "id": "a9345ddc-d7e1-4f77-8684-b7ecd1a78da6",
   "metadata": {},
   "outputs": [],
   "source": [
    "# doc = Document(uri=\"/home/dhanya/Desktop/tact/Documents/Tact Employee NDA-Dhanya.docx\")\n",
    "\n",
    "# doc.convert_uri_to_buffer()\n",
    "# doc.convert_uri_to_text()\n",
    "\n",
    "# doc.convert_buffer_to_uri()\n",
    "# doc.convert_text_to_uri()\n",
    "\n",
    "# doc.convert_buffer_to_blob()\n",
    "# doc.convert_blob_to_buffer()"
   ]
  },
  {
   "cell_type": "code",
   "execution_count": 17,
   "id": "d6f024f8-d382-4b6d-b3e4-78c9dddccd9f",
   "metadata": {},
   "outputs": [],
   "source": [
    "doc = Document(text = 'somthing')\n",
    "doc.tags['greetings'] = 'hello'\n",
    "doc.tags['greetings'] = 'vanakkam'"
   ]
  },
  {
   "cell_type": "code",
   "execution_count": 18,
   "id": "8893c8b1-2476-4416-99a9-33d57250100e",
   "metadata": {},
   "outputs": [
    {
     "data": {
      "text/html": [
       "<img src=\"https://mermaid.ink/svg/JSV7aW5pdDogeyd0aGVtZSc6ICdiYXNlJywgJ3RoZW1lVmFyaWFibGVzJzogeyAncHJpbWFyeUNvbG9yJzogJyNGRkM2NjYnfX19JSUKICAgICAgICAgICAgICAgICAgICAgICAgICAgICAgICAgICAgY2xhc3NEaWFncmFtCiAgICAKICAgICAgICAgICAgICAgICAgICAgICAgICAgICAgICAgICAgICAgICAgICBjbGFzcyA5ZjN+RG9jdW1lbnR+eworaWQgMTYyNDEyNjctMworbWltZV90eXBlIHRleHQvcGxhaW4KK3RhZ3MoPGNsYXNzICdqaW5hLnR5cGVzLnN0cnVjdC5TdHJ1Y3RWaWV3Jz4pCit0ZXh0IHNvbXRoaW5nCn0=\"/>"
      ],
      "text/plain": [
       "<IPython.core.display.Image object>"
      ]
     },
     "metadata": {},
     "output_type": "display_data"
    }
   ],
   "source": [
    "doc"
   ]
  },
  {
   "cell_type": "code",
   "execution_count": 19,
   "id": "c32c793a-f246-4ae3-834b-f747b621bffc",
   "metadata": {},
   "outputs": [
    {
     "data": {
      "text/plain": [
       "<jina.types.struct.StructView greetings=vanakkam at 139958442884976>"
      ]
     },
     "execution_count": 19,
     "metadata": {},
     "output_type": "execute_result"
    }
   ],
   "source": [
    "doc.tags"
   ]
  },
  {
   "cell_type": "code",
   "execution_count": null,
   "id": "ec6ed968-f760-430f-a209-c86b47b6be76",
   "metadata": {},
   "outputs": [],
   "source": []
  }
 ],
 "metadata": {
  "kernelspec": {
   "display_name": "Python 3 (ipykernel)",
   "language": "python",
   "name": "python3"
  },
  "language_info": {
   "codemirror_mode": {
    "name": "ipython",
    "version": 3
   },
   "file_extension": ".py",
   "mimetype": "text/x-python",
   "name": "python",
   "nbconvert_exporter": "python",
   "pygments_lexer": "ipython3",
   "version": "3.9.7"
  }
 },
 "nbformat": 4,
 "nbformat_minor": 5
}
