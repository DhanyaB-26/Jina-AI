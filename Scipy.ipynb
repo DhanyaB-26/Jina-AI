{
 "cells": [
  {
   "cell_type": "code",
   "execution_count": 6,
   "id": "77e5e1ab-28c7-40d3-b9e1-6164c8628647",
   "metadata": {},
   "outputs": [],
   "source": [
    "import scipy as sp\n",
    "import matplotlib.pyplot as plt\n",
    "import numpy as np"
   ]
  },
  {
   "cell_type": "code",
   "execution_count": 2,
   "id": "8405c525-85af-45a7-a5db-1449dd7601d7",
   "metadata": {},
   "outputs": [
    {
     "name": "stdout",
     "output_type": "stream",
     "text": [
      "<jina.types.arrays.memmap.DocumentArrayMemmap object at 0x7f82847dcf10>\n"
     ]
    }
   ],
   "source": [
    "from jina import DocumentArrayMemmap, Document\n",
    "\n",
    "d1 = Document(text='hello')\n",
    "d2 = Document(text='world')\n",
    "\n",
    "dam = DocumentArrayMemmap('./my-memmap')\n",
    "dam.extend([d1, d2])\n",
    "print(dam)"
   ]
  },
  {
   "cell_type": "code",
   "execution_count": 4,
   "id": "18e5f6af-a5b0-4c4c-b6ed-224fd9e0f57b",
   "metadata": {},
   "outputs": [
    {
     "data": {
      "text/plain": [
       "[[5.0, 5.0, 5.0, 5.0, 5.0, 5.0, 5.0, 5.0, 5.0, 5.0],\n",
       " [10.0, 10.0, 10.0, 10.0, 10.0, 10.0, 10.0, 10.0, 10.0, 10.0]]"
      ]
     },
     "execution_count": 4,
     "metadata": {},
     "output_type": "execute_result"
    }
   ],
   "source": [
    "from jina import Document, DocumentArray\n",
    "\n",
    "da = DocumentArray([Document(tags={'dimensions': {'height': 5.0, 'weight': 10.0}}) for _ in range(10)])\n",
    "\n",
    "da.get_attributes('tags__dimensions__height', 'tags__dimensions__weight')"
   ]
  },
  {
   "cell_type": "code",
   "execution_count": 7,
   "id": "9121d314-99f4-4643-86b0-e380d6a9ab27",
   "metadata": {},
   "outputs": [
    {
     "data": {
      "text/html": [
       "<img src=\"https://mermaid.ink/svg/JSV7aW5pdDogeyd0aGVtZSc6ICdiYXNlJywgJ3RoZW1lVmFyaWFibGVzJzogeyAncHJpbWFyeUNvbG9yJzogJyNGRkM2NjYnfX19JSUKICAgICAgICAgICAgICAgICAgICAgICAgICAgICAgICAgICAgY2xhc3NEaWFncmFtCiAgICAKICAgICAgICAgICAgICAgICAgICAgICAgICAgICAgICAgICAgICAgICAgICBjbGFzcyA3MmN+RG9jdW1lbnR+eworaWQg8J+QrworZW1iZWRkaW5nKDxjbGFzcyAnbnVtcHkubmRhcnJheSc+KQorYWRqYWNlbmN5IDEKfQ==\"/>"
      ],
      "text/plain": [
       "<IPython.core.display.Image object>"
      ]
     },
     "metadata": {},
     "output_type": "display_data"
    }
   ],
   "source": [
    "d0 = Document(id='🐲', embedding=np.array([0, 0]))\n",
    "d1 = Document(id='🐦', embedding=np.array([1, 0]))\n",
    "d2 = Document(id='🐢', embedding=np.array([0, 1]))\n",
    "d3 = Document(id='🐯', embedding=np.array([1, 1]))\n",
    "\n",
    "d0.chunks.append(d1)\n",
    "d0.chunks[0].chunks.append(d2)\n",
    "d0.matches.append(d3)"
   ]
  },
  {
   "cell_type": "code",
   "execution_count": 8,
   "id": "42c3df97-5b1c-4e7c-8287-eb49892148a0",
   "metadata": {},
   "outputs": [
    {
     "name": "stdout",
     "output_type": "stream",
     "text": [
      "[   ['spam', 'eggs', 'lumberjack', 'knights', 'ni'],\n",
      "    'spam',\n",
      "    'eggs',\n",
      "    'lumberjack',\n",
      "    'knights',\n",
      "    'ni']\n",
      "[['spam', 'eggs', 'lumberjack',\n",
      "  'knights', 'ni'],\n",
      " 'spam', 'eggs', 'lumberjack', 'knights',\n",
      " 'ni']\n",
      "('spam', ('eggs', ('lumberjack', ('knights', ('ni', ('dead', (...)))))))\n"
     ]
    }
   ],
   "source": [
    "import pprint\n",
    "stuff = ['spam', 'eggs', 'lumberjack', 'knights', 'ni']\n",
    "stuff.insert(0, stuff[:])\n",
    "pp = pprint.PrettyPrinter(indent=4)\n",
    "pp.pprint(stuff)\n",
    "[   ['spam', 'eggs', 'lumberjack', 'knights', 'ni'],\n",
    "    'spam',\n",
    "    'eggs',\n",
    "    'lumberjack',\n",
    "    'knights',\n",
    "    'ni']\n",
    "pp = pprint.PrettyPrinter(width=41, compact=True)\n",
    "pp.pprint(stuff)\n",
    "[['spam', 'eggs', 'lumberjack',\n",
    "  'knights', 'ni'],\n",
    " 'spam', 'eggs', 'lumberjack', 'knights',\n",
    " 'ni']\n",
    "tup = ('spam', ('eggs', ('lumberjack', ('knights', ('ni', ('dead',\n",
    "('parrot', ('fresh fruit',))))))))\n",
    "pp = pprint.PrettyPrinter(depth=6)\n",
    "pp.pprint(tup)\n"
   ]
  },
  {
   "cell_type": "code",
   "execution_count": 1,
   "id": "7d4811c4-e01a-4999-b1df-ff000c960262",
   "metadata": {},
   "outputs": [],
   "source": [
    "from jina import Document\n",
    "import json\n",
    "\n",
    "d = {'id': 'hello123', 'content': 'world'}\n",
    "d1 = Document(d)\n",
    "\n",
    "d = json.dumps({'id': 'hello123', 'content': 'world'})\n",
    "d2 = Document(d)"
   ]
  },
  {
   "cell_type": "code",
   "execution_count": null,
   "id": "4d1551eb-6de6-4709-8df5-819fc75c4789",
   "metadata": {},
   "outputs": [],
   "source": []
  }
 ],
 "metadata": {
  "kernelspec": {
   "display_name": "Python 3 (ipykernel)",
   "language": "python",
   "name": "python3"
  },
  "language_info": {
   "codemirror_mode": {
    "name": "ipython",
    "version": 3
   },
   "file_extension": ".py",
   "mimetype": "text/x-python",
   "name": "python",
   "nbconvert_exporter": "python",
   "pygments_lexer": "ipython3",
   "version": "3.9.7"
  }
 },
 "nbformat": 4,
 "nbformat_minor": 5
}
